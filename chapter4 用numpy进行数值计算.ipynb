{
 "cells": [
  {
   "cell_type": "markdown",
   "metadata": {},
   "source": [
    "# 4.1数据数组"
   ]
  },
  {
   "cell_type": "markdown",
   "metadata": {},
   "source": [
    "## 4.1.1 用列表形成数组 "
   ]
  },
  {
   "cell_type": "code",
   "execution_count": 4,
   "metadata": {},
   "outputs": [
    {
     "data": {
      "text/plain": [
       "[[1, 2, 3, 4, 5], [1, 2, 3, 4, 5], [1, 2, 3, 4, 5], [1, 2, 3, 4, 5]]"
      ]
     },
     "execution_count": 4,
     "metadata": {},
     "output_type": "execute_result"
    }
   ],
   "source": [
    "m = [1,2,3,4,5]\n",
    "n = [m,m,m,m]\n",
    "n"
   ]
  },
  {
   "cell_type": "code",
   "execution_count": 6,
   "metadata": {},
   "outputs": [
    {
     "name": "stdout",
     "output_type": "stream",
     "text": [
      "['python', 2, 3, 4, 5] [['python', 2, 3, 4, 5], ['python', 2, 3, 4, 5], ['python', 2, 3, 4, 5], ['python', 2, 3, 4, 5]] [[1, 2, 3, 4, 5], [1, 2, 3, 4, 5], [1, 2, 3, 4, 5]]\n"
     ]
    }
   ],
   "source": [
    "#deepcopy函数，用物理副本代替引用指针\n",
    "from copy import deepcopy\n",
    "m = [1,2,3,4,5]\n",
    "n = [m,m,m,m]\n",
    "n_ = 3 * [deepcopy(m),]\n",
    "m[0]='python'\n",
    "print(m,n,n_)#改变原列表后，使用deepcopy的并没有受到影响"
   ]
  },
  {
   "cell_type": "markdown",
   "metadata": {},
   "source": [
    "## 4.1.2 array类"
   ]
  },
  {
   "cell_type": "code",
   "execution_count": 2,
   "metadata": {},
   "outputs": [],
   "source": [
    "import array\n",
    "a = array.array('f',[1,2,3,4])#‘f’定义类型"
   ]
  },
  {
   "cell_type": "markdown",
   "metadata": {},
   "source": [
    " TIPs:\n",
    " 1. 可用append&extend，但添加的数据类型要相符，否则报错\n",
    " 2. 某数与array相乘只是重复元素，与数学理论不符合"
   ]
  },
  {
   "cell_type": "code",
   "execution_count": 5,
   "metadata": {},
   "outputs": [],
   "source": [
    "#存储array数据,储存到同一目录下\n",
    "with open('array.apy','wb') as f:\n",
    "    a.tofile(f)"
   ]
  },
  {
   "cell_type": "code",
   "execution_count": 6,
   "metadata": {},
   "outputs": [
    {
     "data": {
      "text/plain": [
       "array('f', [1.0, 2.0])"
      ]
     },
     "execution_count": 6,
     "metadata": {},
     "output_type": "execute_result"
    }
   ],
   "source": [
    "#读取array\n",
    "b = array.array('f')#确定b的格式为浮点\n",
    "with open('array.apy','rb') as f:\n",
    "    b.fromfile(f,2)\n",
    "b"
   ]
  },
  {
   "cell_type": "code",
   "execution_count": 9,
   "metadata": {},
   "outputs": [
    {
     "data": {
      "text/plain": [
       "array('d', [2.000000473111868, 512.0001225471497])"
      ]
     },
     "execution_count": 9,
     "metadata": {},
     "output_type": "execute_result"
    }
   ],
   "source": [
    "#读取array\n",
    "b = array.array('d')#确定b的格式为double\n",
    "with open('array.apy','rb') as f:\n",
    "    b.fromfile(f,2)\n",
    "b#array中没有double类型，无法读出正确的值"
   ]
  },
  {
   "cell_type": "markdown",
   "metadata": {},
   "source": [
    "# 4.2 常规NumPy数组 "
   ]
  },
  {
   "cell_type": "markdown",
   "metadata": {},
   "source": [
    "## 4.2.1 基础知识"
   ]
  },
  {
   "cell_type": "markdown",
   "metadata": {},
   "source": [
    "1. np.arange()\\\n",
    "`a = np.arange(star,end,step,dtype)#end不包括\n",
    "a = np.arange(end, dtype)#end不包括，0到end之间的整数切片左闭右开，0为第一个`\n",
    "2. a.sum()\n",
    "3. a.std()\n",
    "4. a.cumsum()<span style=\"border-bottom:3px dashed #DE7171;\">元素的累计总和</span>\n",
    "5. **ndarray可正常进行向量化数学运算**\n",
    "6. np.exp(a)<span style=\"border-bottom:3px dashed #DE7171;\">计算每个元素的指数值</span>\n",
    "7. np.sqrt(a)\n",
    "8. 用math模块计算更快\\\n",
    "`import math\n",
    "math.sqrt(a)`\n"
   ]
  },
  {
   "cell_type": "code",
   "execution_count": 18,
   "metadata": {},
   "outputs": [
    {
     "data": {
      "text/plain": [
       "array([1. , 1.5, 2. , 2.5, 3. , 3.5, 4. , 4.5])"
      ]
     },
     "execution_count": 18,
     "metadata": {},
     "output_type": "execute_result"
    }
   ],
   "source": [
    "import numpy as np\n",
    "a1 = np.arange(1,5,0.5,dtype=np.float)\n",
    "a1"
   ]
  },
  {
   "cell_type": "code",
   "execution_count": 21,
   "metadata": {},
   "outputs": [
    {
     "data": {
      "text/plain": [
       "array([0., 1., 2., 3., 4., 5.])"
      ]
     },
     "execution_count": 21,
     "metadata": {},
     "output_type": "execute_result"
    }
   ],
   "source": [
    "a2 = np.arange(5.9,dtype=np.float)\n",
    "a2"
   ]
  },
  {
   "cell_type": "code",
   "execution_count": 20,
   "metadata": {},
   "outputs": [
    {
     "data": {
      "text/plain": [
       "array([0., 1.])"
      ]
     },
     "execution_count": 20,
     "metadata": {},
     "output_type": "execute_result"
    }
   ],
   "source": [
    "a2[:2]"
   ]
  },
  {
   "cell_type": "markdown",
   "metadata": {},
   "source": [
    "## 4.2.2多维数组 "
   ]
  },
  {
   "cell_type": "markdown",
   "metadata": {},
   "source": [
    "1. np.zeros((m,n),dtype,order) <span style=\"border-bottom:3px dashed #DE7171;\">用零填充</span>\n",
    "2. np.ones <span style=\"border-bottom:3px dashed #DE7171;\">用1填充</span>\n",
    "3. np.ones_like(c,dtype,order)<span style=\"border-bottom:3px dashed #DE7171;\">用1填充,形状和c相似</span>\n",
    "4. np.empty((m,n))<span style=\"border-bottom:3px dashed #DE7171;\">不填充</span>\n",
    "5. np.empty_like(c,dtype,order)<span style=\"border-bottom:3px dashed #DE7171;\">不填充,形状和c相似</span>\n",
    "6. np.eyes(n) <span style=\"border-bottom:3px dashed #DE7171;\">单位矩阵</span>\n",
    "7. np.linspace(star,end,num)<span style=\"border-bottom:3px dashed #DE7171;\">一维ndarray对象，数之间均匀间隔，star/end都包括</span>\n",
    "order有C和F,C行优先，F列优先"
   ]
  },
  {
   "cell_type": "markdown",
   "metadata": {},
   "source": [
    "## 4.2.3 元信息"
   ]
  },
  {
   "cell_type": "markdown",
   "metadata": {},
   "source": [
    "1. a.size **元素数量**\n",
    "2. a.itemsize **一个元素的字节数**\n",
    "3. a.ndim  **维数**\n",
    "4. a.shape **ndrray对象组成**\n",
    "5. a.dtype **元素的类型**\n",
    "6. a.nbytes **字节总数**"
   ]
  },
  {
   "cell_type": "markdown",
   "metadata": {},
   "source": [
    "## 4.2.4改变组成大小 "
   ]
  },
  {
   "cell_type": "markdown",
   "metadata": {},
   "source": [
    "g.reshape() **不改变元素数量，改变形状** \\\n",
    "g.T **转置** \\\n",
    "g.transpose() **转置** \\\n",
    "np.resize(g,(m,n)) **可扩大或者缩小原数组** \\\n",
    "np.hstack((g, 2 * g)) **水平连接** \\\n",
    "np.vstack((g, 2 * g)) **垂直连接** \\\n",
    "g.flatten() **把多维数组扁平化变成一维数组** \n"
   ]
  },
  {
   "cell_type": "code",
   "execution_count": 29,
   "metadata": {},
   "outputs": [
    {
     "data": {
      "text/plain": [
       "array([[0.1965806 , 0.85199299, 0.08272373],\n",
       "       [0.65831339, 0.3038445 , 0.46890122]])"
      ]
     },
     "execution_count": 29,
     "metadata": {},
     "output_type": "execute_result"
    }
   ],
   "source": [
    "import numpy as np\n",
    "h = np.random.rand(2,3)\n",
    "h"
   ]
  },
  {
   "cell_type": "code",
   "execution_count": 30,
   "metadata": {},
   "outputs": [
    {
     "data": {
      "text/plain": [
       "array([[0.1965806 , 0.85199299, 0.08272373, 0.3931612 , 1.70398598,\n",
       "        0.16544745],\n",
       "       [0.65831339, 0.3038445 , 0.46890122, 1.31662678, 0.60768901,\n",
       "        0.93780245]])"
      ]
     },
     "execution_count": 30,
     "metadata": {},
     "output_type": "execute_result"
    }
   ],
   "source": [
    "np.hstack((h,2 * h))"
   ]
  },
  {
   "cell_type": "code",
   "execution_count": 31,
   "metadata": {},
   "outputs": [
    {
     "data": {
      "text/plain": [
       "array([[0.1965806 , 0.85199299, 0.08272373],\n",
       "       [0.65831339, 0.3038445 , 0.46890122],\n",
       "       [0.3931612 , 1.70398598, 0.16544745],\n",
       "       [1.31662678, 0.60768901, 0.93780245]])"
      ]
     },
     "execution_count": 31,
     "metadata": {},
     "output_type": "execute_result"
    }
   ],
   "source": [
    "np.vstack((h,2 * h))"
   ]
  },
  {
   "cell_type": "code",
   "execution_count": 33,
   "metadata": {},
   "outputs": [
    {
     "data": {
      "text/plain": [
       "array([0.1965806 , 0.85199299, 0.08272373, 0.65831339, 0.3038445 ,\n",
       "       0.46890122])"
      ]
     },
     "execution_count": 33,
     "metadata": {},
     "output_type": "execute_result"
    }
   ],
   "source": [
    "h.flatten()#默认扁平化顺序为C（行优先）"
   ]
  },
  {
   "cell_type": "code",
   "execution_count": 35,
   "metadata": {},
   "outputs": [
    {
     "data": {
      "text/plain": [
       "array([0.1965806 , 0.85199299, 0.08272373, 0.65831339, 0.3038445 ,\n",
       "       0.46890122])"
      ]
     },
     "execution_count": 35,
     "metadata": {},
     "output_type": "execute_result"
    }
   ],
   "source": [
    "h.flatten(order='C')"
   ]
  },
  {
   "cell_type": "code",
   "execution_count": 36,
   "metadata": {},
   "outputs": [
    {
     "data": {
      "text/plain": [
       "array([0.1965806 , 0.65831339, 0.85199299, 0.3038445 , 0.08272373,\n",
       "       0.46890122])"
      ]
     },
     "execution_count": 36,
     "metadata": {},
     "output_type": "execute_result"
    }
   ],
   "source": [
    "h.flatten(order='F')"
   ]
  },
  {
   "cell_type": "code",
   "execution_count": 38,
   "metadata": {},
   "outputs": [
    {
     "name": "stdout",
     "output_type": "stream",
     "text": [
      "0.19658060227531227,0.8519929876772002,0.08272372704088649,0.6583133888616981,0.3038445041850725,0.46890122391679445,"
     ]
    }
   ],
   "source": [
    "for i in h.flat:#C顺序\n",
    "    print(i,end=',')"
   ]
  },
  {
   "cell_type": "code",
   "execution_count": 39,
   "metadata": {},
   "outputs": [
    {
     "name": "stdout",
     "output_type": "stream",
     "text": [
      "0.19658060227531227,0.8519929876772002,0.08272372704088649,0.6583133888616981,0.3038445041850725,0.46890122391679445,"
     ]
    }
   ],
   "source": [
    "for i in h.ravel(order='C'):#C顺序\n",
    "    print(i,end=',')"
   ]
  },
  {
   "cell_type": "code",
   "execution_count": 40,
   "metadata": {},
   "outputs": [
    {
     "name": "stdout",
     "output_type": "stream",
     "text": [
      "0.19658060227531227,0.6583133888616981,0.8519929876772002,0.3038445041850725,0.08272372704088649,0.46890122391679445,"
     ]
    }
   ],
   "source": [
    "for i in h.ravel(order='F'):#F顺序\n",
    "    print(i,end=',')"
   ]
  },
  {
   "cell_type": "code",
   "execution_count": null,
   "metadata": {},
   "outputs": [],
   "source": []
  }
 ],
 "metadata": {
  "kernelspec": {
   "display_name": "Python 3",
   "language": "python",
   "name": "python3"
  },
  "language_info": {
   "codemirror_mode": {
    "name": "ipython",
    "version": 3
   },
   "file_extension": ".py",
   "mimetype": "text/x-python",
   "name": "python",
   "nbconvert_exporter": "python",
   "pygments_lexer": "ipython3",
   "version": "3.8.3"
  }
 },
 "nbformat": 4,
 "nbformat_minor": 4
}
