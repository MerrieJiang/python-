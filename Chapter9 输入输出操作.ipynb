{
 "cells": [
  {
   "cell_type": "markdown",
   "metadata": {},
   "source": [
    "# 9.1 python基本I/O "
   ]
  },
  {
   "cell_type": "markdown",
   "metadata": {},
   "source": [
    "## 9.1.1用pickle将对象写入磁盘 "
   ]
  },
  {
   "cell_type": "code",
   "execution_count": 1,
   "metadata": {},
   "outputs": [],
   "source": [
    "import pickle\n",
    "import numpy as np\n",
    "from random import gauss\n",
    "a = [gauss(1.5,2) for i in range(10000)]#以正态分布生成10000个随机数的列表\n",
    "path = 'D:/Users/MERRY/Jupyter/python金融大数据分析（edition 2）/'#指定储存路径"
   ]
  },
  {
   "cell_type": "markdown",
   "metadata": {},
   "source": [
    "### 存储和读取单个对象 "
   ]
  },
  {
   "cell_type": "code",
   "execution_count": 2,
   "metadata": {},
   "outputs": [],
   "source": [
    "pkl_file = open(path + 'data.pkl','wb')#为二进制写入模式(wb)打开文件\n",
    "pickle.dump(a,pkl_file)#将a序列化并保存到路径\n",
    "pkl_file.close()#关闭文件"
   ]
  },
  {
   "cell_type": "code",
   "execution_count": 3,
   "metadata": {},
   "outputs": [
    {
     "name": "stdout",
     "output_type": "stream",
     "text": [
      "[3.423421905183841, 1.977660303451337, 2.666929618936769]\n",
      "[3.423421905183841, 1.977660303451337, 2.666929618936769]\n"
     ]
    },
    {
     "data": {
      "text/plain": [
       "True"
      ]
     },
     "execution_count": 3,
     "metadata": {},
     "output_type": "execute_result"
    }
   ],
   "source": [
    "pkl_file = open(path + 'data.pkl','rb')#为二进制打开模式(rb)打开文件\n",
    "b = pickle.load(pkl_file)#读取文件\n",
    "print(a[:3])\n",
    "print(b[:3])\n",
    "np.allclose(np.array(a),np.array(b))#将a和b转成ndarray对象，并验证两个对象是否包括相同数据"
   ]
  },
  {
   "cell_type": "markdown",
   "metadata": {},
   "source": [
    "### 存储和读取多个对象 (按照先进先出FIFO)"
   ]
  },
  {
   "cell_type": "code",
   "execution_count": 8,
   "metadata": {},
   "outputs": [],
   "source": [
    "pkl_file = open(path + 'data.pkl','wb')\n",
    "pickle.dump(np.array(a),pkl_file)#写入a的ndarray版本\n",
    "pickle.dump(np.array(a)**2,pkl_file)\n",
    "pkl_file.close()"
   ]
  },
  {
   "cell_type": "code",
   "execution_count": 9,
   "metadata": {},
   "outputs": [
    {
     "name": "stdout",
     "output_type": "stream",
     "text": [
      "[ 3.42342191  1.9776603   2.66692962 -0.39403619]\n",
      "[11.71981754  3.91114028  7.11251359  0.15526452]\n"
     ]
    }
   ],
   "source": [
    "pkl_file = open(path + 'data.pkl','rb')\n",
    "x = pickle.load(pkl_file)\n",
    "print(x[:4])\n",
    "y = pickle.load(pkl_file)\n",
    "print(y[:4])\n"
   ]
  },
  {
   "cell_type": "markdown",
   "metadata": {},
   "source": [
    "### 用字典存储和读取多个对象"
   ]
  },
  {
   "cell_type": "code",
   "execution_count": 10,
   "metadata": {},
   "outputs": [
    {
     "name": "stdout",
     "output_type": "stream",
     "text": [
      "x [ 3.42342191  1.9776603   2.66692962 -0.39403619]\n",
      "y [11.71981754  3.91114028  7.11251359  0.15526452]\n"
     ]
    }
   ],
   "source": [
    "pkl_file = open(path + 'data.pkl','wb')#以写入模式打开文件\n",
    "pickle.dump({'x':x,\"y\":y},pkl_file)#以字典的方式将xy写入\n",
    "pkl_file.close()#关闭文件\n",
    "pkl_file = open(path + 'data.pkl','rb')#以读取的方式打开文件\n",
    "data = pickle.load(pkl_file)#读取字典对象\n",
    "pkl_file.close()\n",
    "for key in data.keys():\n",
    "    print(key, data[key][:4])\n",
    "\n"
   ]
  },
  {
   "cell_type": "markdown",
   "metadata": {},
   "source": [
    "## 9.1.2 读取和写入文本文件(CSV)"
   ]
  },
  {
   "cell_type": "markdown",
   "metadata": {},
   "source": [
    "### 以ndarry和dateindex创建模拟数据"
   ]
  },
  {
   "cell_type": "code",
   "execution_count": 12,
   "metadata": {},
   "outputs": [
    {
     "name": "stdout",
     "output_type": "stream",
     "text": [
      "[[-1.8655  0.6139 -1.1108 -1.1702  1.971 ]\n",
      " [-0.0815 -0.4315 -0.6852 -0.239   0.9434]\n",
      " [ 0.5019 -0.2904  0.8814  0.6724  1.712 ]\n",
      " [-2.1366  0.1729  1.1794  0.5216  2.8343]]\n"
     ]
    },
    {
     "data": {
      "text/plain": [
       "DatetimeIndex(['2020-01-01 00:00:00', '2020-01-01 01:00:00',\n",
       "               '2020-01-01 02:00:00', '2020-01-01 03:00:00',\n",
       "               '2020-01-01 04:00:00', '2020-01-01 05:00:00',\n",
       "               '2020-01-01 06:00:00', '2020-01-01 07:00:00',\n",
       "               '2020-01-01 08:00:00', '2020-01-01 09:00:00',\n",
       "               ...\n",
       "               '2020-07-26 22:00:00', '2020-07-26 23:00:00',\n",
       "               '2020-07-27 00:00:00', '2020-07-27 01:00:00',\n",
       "               '2020-07-27 02:00:00', '2020-07-27 03:00:00',\n",
       "               '2020-07-27 04:00:00', '2020-07-27 05:00:00',\n",
       "               '2020-07-27 06:00:00', '2020-07-27 07:00:00'],\n",
       "              dtype='datetime64[ns]', length=5000, freq='H')"
      ]
     },
     "execution_count": 12,
     "metadata": {},
     "output_type": "execute_result"
    }
   ],
   "source": [
    "import pandas as pd\n",
    "rows = 5000 #5000行数据\n",
    "a = np.random.standard_normal((rows,5)).round(4)#生成正态分布数据5000行，每行5个，保留4位小数\n",
    "t = pd.date_range(start='2020/1/1',periods=rows,freq='H')#生成时期索引，间隔为一小时\n",
    "print(a[:4,:])\n",
    "t"
   ]
  },
  {
   "cell_type": "markdown",
   "metadata": {},
   "source": [
    "### 将数据存入csv文件"
   ]
  },
  {
   "cell_type": "code",
   "execution_count": 13,
   "metadata": {},
   "outputs": [],
   "source": [
    "csv_file = open(path + 'data.csv','w')#以读取的方式打开文件\n",
    "header = 'data,no1,no2,no3,no4,no5\\n'\n",
    "csv_file.write(header)#将列标签作为第一行写入\n",
    "for t_,(no1,no2,no3,no4,no5) in zip(t,a):\n",
    "    s = '{},{},{},{},{},{}\\n'.format(t_,no1,no2,no3,no4,no5)#按行合并数据，转化成字符串类型\n",
    "    csv_file.write(s)#按行写入字符串\n",
    "csv_file.close()\n"
   ]
  },
  {
   "cell_type": "markdown",
   "metadata": {},
   "source": [
    "### 读取csv文件，返回列表对象"
   ]
  },
  {
   "cell_type": "code",
   "execution_count": 14,
   "metadata": {},
   "outputs": [
    {
     "data": {
      "text/plain": [
       "[['data', 'no1', 'no2', 'no3', 'no4', 'no5'],\n",
       " ['2020-01-01 00:00:00', '-1.8655', '0.6139', '-1.1108', '-1.1702', '1.971'],\n",
       " ['2020-01-01 01:00:00', '-0.0815', '-0.4315', '-0.6852', '-0.239', '0.9434'],\n",
       " ['2020-01-01 02:00:00', '0.5019', '-0.2904', '0.8814', '0.6724', '1.712'],\n",
       " ['2020-01-01 03:00:00', '-2.1366', '0.1729', '1.1794', '0.5216', '2.8343']]"
      ]
     },
     "execution_count": 14,
     "metadata": {},
     "output_type": "execute_result"
    }
   ],
   "source": [
    "import csv\n",
    "with open(path + 'data.csv','r') as f:\n",
    "    csv_reader = csv.reader(f)#将每一行当一个列表对象返回\n",
    "    lines = [line for line in csv_reader]\n",
    "lines[:5]"
   ]
  },
  {
   "cell_type": "markdown",
   "metadata": {},
   "source": [
    "### 读取csv，返回字典对象"
   ]
  },
  {
   "cell_type": "code",
   "execution_count": 15,
   "metadata": {},
   "outputs": [
    {
     "data": {
      "text/plain": [
       "[{'data': '2020-01-01 00:00:00',\n",
       "  'no1': '-1.8655',\n",
       "  'no2': '0.6139',\n",
       "  'no3': '-1.1108',\n",
       "  'no4': '-1.1702',\n",
       "  'no5': '1.971'},\n",
       " {'data': '2020-01-01 01:00:00',\n",
       "  'no1': '-0.0815',\n",
       "  'no2': '-0.4315',\n",
       "  'no3': '-0.6852',\n",
       "  'no4': '-0.239',\n",
       "  'no5': '0.9434'},\n",
       " {'data': '2020-01-01 02:00:00',\n",
       "  'no1': '0.5019',\n",
       "  'no2': '-0.2904',\n",
       "  'no3': '0.8814',\n",
       "  'no4': '0.6724',\n",
       "  'no5': '1.712'},\n",
       " {'data': '2020-01-01 03:00:00',\n",
       "  'no1': '-2.1366',\n",
       "  'no2': '0.1729',\n",
       "  'no3': '1.1794',\n",
       "  'no4': '0.5216',\n",
       "  'no5': '2.8343'},\n",
       " {'data': '2020-01-01 04:00:00',\n",
       "  'no1': '0.1684',\n",
       "  'no2': '-2.348',\n",
       "  'no3': '-0.6417',\n",
       "  'no4': '1.8987',\n",
       "  'no5': '-0.5316'}]"
      ]
     },
     "execution_count": 15,
     "metadata": {},
     "output_type": "execute_result"
    }
   ],
   "source": [
    "import csv\n",
    "with open(path + 'data.csv','r') as f:\n",
    "    csv_reader = csv.DictReader(f)#将每一行当一个列表对象返回\n",
    "    lines = [line for line in csv_reader]\n",
    "lines[:5]"
   ]
  },
  {
   "cell_type": "markdown",
   "metadata": {},
   "source": [
    "## 9.1.3使用SQL数据库 "
   ]
  },
  {
   "cell_type": "code",
   "execution_count": 16,
   "metadata": {},
   "outputs": [],
   "source": [
    "import sqlite3 as sq3"
   ]
  },
  {
   "cell_type": "code",
   "execution_count": 17,
   "metadata": {},
   "outputs": [
    {
     "data": {
      "text/plain": [
       "[('table',\n",
       "  'numbs',\n",
       "  'numbs',\n",
       "  2,\n",
       "  'CREATE TABLE numbs(Date date,No1 real,No2 real)')]"
      ]
     },
     "execution_count": 17,
     "metadata": {},
     "output_type": "execute_result"
    }
   ],
   "source": [
    "con = sq3.connect(path + 'numbs.db')#打开一个数据连接，如果不存在就创建一个\n",
    "query = 'CREATE TABLE numbs(Date date,No1 real,No2 real)'#sql语令，创建包含3列的表\n",
    "con.execute(query)#执行query\n",
    "con.commit()#提交更改\n",
    "q = con.execute\n",
    "q('SELECT * FROM sqlite_master').fetchall()#将创建的表显示为单个对象"
   ]
  },
  {
   "cell_type": "code",
   "execution_count": 19,
   "metadata": {},
   "outputs": [
    {
     "name": "stdout",
     "output_type": "stream",
     "text": [
      "Wall time: 0 ns\n"
     ]
    },
    {
     "data": {
      "text/plain": [
       "[('2022-03-03 18:38:15.160683', -1.7498, 0.3427),\n",
       " ('2022-03-03 18:38:15.160683', 1.153, -0.2524),\n",
       " ('2022-03-03 18:38:15.160683', 0.9813, 0.5142),\n",
       " ('2022-03-03 18:38:15.160683', 0.2212, -1.07)]"
      ]
     },
     "execution_count": 19,
     "metadata": {},
     "output_type": "execute_result"
    }
   ],
   "source": [
    "import datetime\n",
    "np.random.seed(100)\n",
    "data = np.random.standard_normal((10000,2)).round(4)\n",
    "%time\n",
    "for row in data:\n",
    "    now = datetime.datetime.now()#获取当前时间\n",
    "    q('INSERT INTO numbs VALUES(?,?,?)',(now,row[0],row[1]))#写入数据\n",
    "con.commit()\n",
    "q('SELECT * FROM numbs').fetchmany(4)#插入数据\n"
   ]
  },
  {
   "cell_type": "markdown",
   "metadata": {},
   "source": [
    "## 9.1.4读写numpy数组"
   ]
  },
  {
   "cell_type": "markdown",
   "metadata": {},
   "source": [
    "1. 写入numpy\n",
    "\n",
    "`np.save(path + 'arry,data)`\n",
    "2. 读取numpy数据\n",
    "\n",
    "`np.load(path + 'array.npy')`"
   ]
  },
  {
   "cell_type": "markdown",
   "metadata": {},
   "source": [
    "# 9.2 pandas的I/O "
   ]
  },
  {
   "cell_type": "markdown",
   "metadata": {},
   "source": [
    "1. pd.read_csv() \\\n",
    "   pd.to_csv()\n",
    "2. pd.read_excel() \\\n",
    "   pd.to_excel() \n",
    "3. pd.read_hdf()   HDFS数据库 \\\n",
    "   pd.to_hdf() \n",
    "4. sql \n",
    "5. json **javascript标记对象**\n",
    "6. msgpack **可移植二进制模式**\n",
    "7. html\n",
    "8. gbq  **Google big query模式**\n",
    "9. stata  **格式104、105、108**\n",
    "10. clipboard  **html页面**\n",
    "11. pickle  **结构化python对象**"
   ]
  },
  {
   "cell_type": "markdown",
   "metadata": {},
   "source": [
    "# 9.3 PyTables的I/O "
   ]
  },
  {
   "cell_type": "code",
   "execution_count": 20,
   "metadata": {},
   "outputs": [],
   "source": [
    "import tables as tb#该库的导入名称为tables\n",
    "import datetime as dt"
   ]
  },
  {
   "cell_type": "markdown",
   "metadata": {},
   "source": [
    "## 9.3.1 使用表 "
   ]
  },
  {
   "cell_type": "code",
   "execution_count": 50,
   "metadata": {},
   "outputs": [
    {
     "ename": "ValueError",
     "evalue": "The file 'pytab.h5' is already opened.  Please close it before reopening in write mode.",
     "output_type": "error",
     "traceback": [
      "\u001b[1;31m---------------------------------------------------------------------------\u001b[0m",
      "\u001b[1;31mValueError\u001b[0m                                Traceback (most recent call last)",
      "\u001b[1;32m<ipython-input-50-06fa79717c0e>\u001b[0m in \u001b[0;36m<module>\u001b[1;34m\u001b[0m\n\u001b[0;32m      1\u001b[0m \u001b[0mfilename\u001b[0m \u001b[1;33m=\u001b[0m \u001b[1;34m'pytab.h5'\u001b[0m\u001b[1;33m\u001b[0m\u001b[1;33m\u001b[0m\u001b[0m\n\u001b[1;32m----> 2\u001b[1;33m \u001b[0mh5\u001b[0m \u001b[1;33m=\u001b[0m \u001b[0mtb\u001b[0m\u001b[1;33m.\u001b[0m\u001b[0mopen_file\u001b[0m\u001b[1;33m(\u001b[0m\u001b[0mfilename\u001b[0m\u001b[1;33m,\u001b[0m\u001b[1;34m'w'\u001b[0m\u001b[1;33m)\u001b[0m\u001b[1;31m#以二进制模式打开文件\u001b[0m\u001b[1;33m\u001b[0m\u001b[1;33m\u001b[0m\u001b[0m\n\u001b[0m\u001b[0;32m      3\u001b[0m row_des = {\n\u001b[0;32m      4\u001b[0m     \u001b[1;34m'Date'\u001b[0m\u001b[1;33m:\u001b[0m\u001b[0mtb\u001b[0m\u001b[1;33m.\u001b[0m\u001b[0mStringCol\u001b[0m\u001b[1;33m(\u001b[0m\u001b[1;36m26\u001b[0m\u001b[1;33m,\u001b[0m\u001b[0mpos\u001b[0m\u001b[1;33m=\u001b[0m\u001b[1;36m1\u001b[0m\u001b[1;33m)\u001b[0m\u001b[1;33m,\u001b[0m\u001b[1;31m#date列设置为字符串模式\u001b[0m\u001b[1;33m\u001b[0m\u001b[1;33m\u001b[0m\u001b[0m\n\u001b[0;32m      5\u001b[0m     \u001b[1;34m'No1'\u001b[0m\u001b[1;33m:\u001b[0m\u001b[0mtb\u001b[0m\u001b[1;33m.\u001b[0m\u001b[0mIntCol\u001b[0m\u001b[1;33m(\u001b[0m\u001b[0mpos\u001b[0m\u001b[1;33m=\u001b[0m\u001b[1;36m2\u001b[0m\u001b[1;33m)\u001b[0m\u001b[1;33m,\u001b[0m\u001b[1;33m\u001b[0m\u001b[1;33m\u001b[0m\u001b[0m\n",
      "\u001b[1;32mD:\\Anaconda\\lib\\site-packages\\tables\\file.py\u001b[0m in \u001b[0;36mopen_file\u001b[1;34m(filename, mode, title, root_uep, filters, **kwargs)\u001b[0m\n\u001b[0;32m    308\u001b[0m             \u001b[1;31m# 'w' means that we want to destroy existing contents\u001b[0m\u001b[1;33m\u001b[0m\u001b[1;33m\u001b[0m\u001b[1;33m\u001b[0m\u001b[0m\n\u001b[0;32m    309\u001b[0m             \u001b[1;32melif\u001b[0m \u001b[0mmode\u001b[0m \u001b[1;33m==\u001b[0m \u001b[1;34m'w'\u001b[0m\u001b[1;33m:\u001b[0m\u001b[1;33m\u001b[0m\u001b[1;33m\u001b[0m\u001b[0m\n\u001b[1;32m--> 310\u001b[1;33m                 raise ValueError(\n\u001b[0m\u001b[0;32m    311\u001b[0m                     \u001b[1;34m\"The file '%s' is already opened.  Please \"\u001b[0m\u001b[1;33m\u001b[0m\u001b[1;33m\u001b[0m\u001b[0m\n\u001b[0;32m    312\u001b[0m                     \"close it before reopening in write mode.\" % filename)\n",
      "\u001b[1;31mValueError\u001b[0m: The file 'pytab.h5' is already opened.  Please close it before reopening in write mode."
     ]
    }
   ],
   "source": [
    "filename = 'pytab.h5'\n",
    "h5 = tb.open_file(filename,'w')#以二进制模式打开文件\n",
    "row_des = {\n",
    "    'Date':tb.StringCol(26,pos=1),#date列设置为字符串模式\n",
    "    'No1':tb.IntCol(pos=2),\n",
    "    'No2':tb.IntCol(pos=3),#两个int列\n",
    "    'No3':tb.Float64Col(pos=4),\n",
    "    'No4':tb.Float64Col(pos=5)#两个浮点列\n",
    "\n",
    "}\n",
    "rows = 200000\n",
    "filters = tb.Filters(complevel=0)#指定压缩级别\n",
    "tab = h5.create_table('/','ints_floats',#表的路径和技术名称\n",
    "                      row_des,#行数据结构描述\n",
    "                     title='INT and FLOAT',#表名\n",
    "                     expectedrows=rows,#预期的行数\n",
    "                     filters=filters #用于该表的Filters对象\n",
    "                     )\n",
    "tab"
   ]
  },
  {
   "cell_type": "code",
   "execution_count": 49,
   "metadata": {},
   "outputs": [],
   "source": [
    "h5.close()"
   ]
  },
  {
   "cell_type": "markdown",
   "metadata": {},
   "source": [
    "#  9.4 TsTables的I/O"
   ]
  },
  {
   "cell_type": "markdown",
   "metadata": {},
   "source": [
    "## 9.4.1 样板数据 "
   ]
  },
  {
   "cell_type": "markdown",
   "metadata": {},
   "source": [
    "### 基于几何布朗运动模拟金融时间序列 "
   ]
  },
  {
   "cell_type": "code",
   "execution_count": 24,
   "metadata": {},
   "outputs": [],
   "source": [
    "no = 5000000\n",
    "co = 3\n",
    "interval = 1. / (12 * 30 * 24 * 60)#以年表示时间间隔\n",
    "vol = 0.2#波动率\n",
    "rn = np.random.standard_normal((no,co))#生成3个时间序列，每个序列有5000000个时间数据\n",
    "rn[0] = 0.0#将初始随机值设为0\n",
    "paths = 100 * np.exp(np.cumsum(-0.5 * vol ** 2 * interval + \n",
    "                              vol * np.sqrt(interval) * rn,axis=0))#基于欧拉离散的模拟\n",
    "paths[0] = 100#将初始路径设置为100"
   ]
  },
  {
   "cell_type": "code",
   "execution_count": 29,
   "metadata": {},
   "outputs": [
    {
     "data": {
      "text/plain": [
       "<matplotlib.axes._subplots.AxesSubplot at 0x2199510c430>"
      ]
     },
     "execution_count": 29,
     "metadata": {},
     "output_type": "execute_result"
    },
    {
     "data": {
      "image/png": "[encoded data removed]",
      "text/plain": [
       "<Figure size 720x432 with 1 Axes>"
      ]
     },
     "metadata": {
      "needs_background": "light"
     },
     "output_type": "display_data"
    }
   ],
   "source": [
    "dr = pd.date_range('2019-1-1',periods=no,freq='1s')#以秒为间隔设置时间\n",
    "df = pd.DataFrame(paths, index=dr,columns=['ts1','ts2','ts3'])#将模拟后的数据导入\n",
    "df.head()\n",
    "df[::100000].plot(figsize=(10,6))\n"
   ]
  },
  {
   "cell_type": "markdown",
   "metadata": {},
   "source": [
    "## 9.4.2 数据存储 "
   ]
  },
  {
   "cell_type": "code",
   "execution_count": 31,
   "metadata": {},
   "outputs": [],
   "source": [
    "import tstables as tstab #该软件包增加create_ts()"
   ]
  },
  {
   "cell_type": "code",
   "execution_count": 47,
   "metadata": {},
   "outputs": [
    {
     "ename": "ValueError",
     "evalue": "The file 'tstab.h5' is already opened.  Please close it before reopening in write mode.",
     "output_type": "error",
     "traceback": [
      "\u001b[1;31m---------------------------------------------------------------------------\u001b[0m",
      "\u001b[1;31mValueError\u001b[0m                                Traceback (most recent call last)",
      "\u001b[1;32m<ipython-input-47-b44a73c8beba>\u001b[0m in \u001b[0;36m<module>\u001b[1;34m\u001b[0m\n\u001b[0;32m      4\u001b[0m     \u001b[0mts2\u001b[0m \u001b[1;33m=\u001b[0m \u001b[0mtb\u001b[0m\u001b[1;33m.\u001b[0m\u001b[0mFloat64Col\u001b[0m\u001b[1;33m(\u001b[0m\u001b[0mpos\u001b[0m\u001b[1;33m=\u001b[0m\u001b[1;36m2\u001b[0m\u001b[1;33m)\u001b[0m\u001b[1;33m\u001b[0m\u001b[1;33m\u001b[0m\u001b[0m\n\u001b[0;32m      5\u001b[0m     \u001b[0mts3\u001b[0m \u001b[1;33m=\u001b[0m \u001b[0mtb\u001b[0m\u001b[1;33m.\u001b[0m\u001b[0mFloat64Col\u001b[0m\u001b[1;33m(\u001b[0m\u001b[0mpos\u001b[0m\u001b[1;33m=\u001b[0m\u001b[1;36m3\u001b[0m\u001b[1;33m)\u001b[0m\u001b[1;33m\u001b[0m\u001b[1;33m\u001b[0m\u001b[0m\n\u001b[1;32m----> 6\u001b[1;33m \u001b[0mh5\u001b[0m \u001b[1;33m=\u001b[0m \u001b[0mtb\u001b[0m\u001b[1;33m.\u001b[0m\u001b[0mopen_file\u001b[0m\u001b[1;33m(\u001b[0m \u001b[1;34m'tstab.h5'\u001b[0m\u001b[1;33m,\u001b[0m\u001b[1;34m'w'\u001b[0m\u001b[1;33m)\u001b[0m\u001b[1;31m#打开文件\u001b[0m\u001b[1;33m\u001b[0m\u001b[1;33m\u001b[0m\u001b[0m\n\u001b[0m\u001b[0;32m      7\u001b[0m \u001b[0mts\u001b[0m \u001b[1;33m=\u001b[0m \u001b[0mh5\u001b[0m\u001b[1;33m.\u001b[0m\u001b[0mcreate_ts\u001b[0m\u001b[1;33m(\u001b[0m\u001b[1;34m'/'\u001b[0m\u001b[1;33m,\u001b[0m\u001b[1;34m'ts'\u001b[0m\u001b[1;33m,\u001b[0m\u001b[0mts_desc\u001b[0m\u001b[1;33m)\u001b[0m\u001b[1;31m#根据ts_desc对象创建tstable对象\u001b[0m\u001b[1;33m\u001b[0m\u001b[1;33m\u001b[0m\u001b[0m\n\u001b[0;32m      8\u001b[0m \u001b[0mts\u001b[0m\u001b[1;33m.\u001b[0m\u001b[0mappend\u001b[0m\u001b[1;33m(\u001b[0m\u001b[0mdf\u001b[0m\u001b[1;33m)\u001b[0m\u001b[1;31m#将dataframe对象附加到tstable对象中\u001b[0m\u001b[1;33m\u001b[0m\u001b[1;33m\u001b[0m\u001b[0m\n",
      "\u001b[1;32mD:\\Anaconda\\lib\\site-packages\\tables\\file.py\u001b[0m in \u001b[0;36mopen_file\u001b[1;34m(filename, mode, title, root_uep, filters, **kwargs)\u001b[0m\n\u001b[0;32m    308\u001b[0m             \u001b[1;31m# 'w' means that we want to destroy existing contents\u001b[0m\u001b[1;33m\u001b[0m\u001b[1;33m\u001b[0m\u001b[1;33m\u001b[0m\u001b[0m\n\u001b[0;32m    309\u001b[0m             \u001b[1;32melif\u001b[0m \u001b[0mmode\u001b[0m \u001b[1;33m==\u001b[0m \u001b[1;34m'w'\u001b[0m\u001b[1;33m:\u001b[0m\u001b[1;33m\u001b[0m\u001b[1;33m\u001b[0m\u001b[0m\n\u001b[1;32m--> 310\u001b[1;33m                 raise ValueError(\n\u001b[0m\u001b[0;32m    311\u001b[0m                     \u001b[1;34m\"The file '%s' is already opened.  Please \"\u001b[0m\u001b[1;33m\u001b[0m\u001b[1;33m\u001b[0m\u001b[0m\n\u001b[0;32m    312\u001b[0m                     \"close it before reopening in write mode.\" % filename)\n",
      "\u001b[1;31mValueError\u001b[0m: The file 'tstab.h5' is already opened.  Please close it before reopening in write mode."
     ]
    }
   ],
   "source": [
    "class ts_desc(tb.IsDescription):\n",
    "    timestamp = tb.Int64Col(pos=0)\n",
    "    ts1 = tb.Float64Col(pos=1)    \n",
    "    ts2 = tb.Float64Col(pos=2)\n",
    "    ts3 = tb.Float64Col(pos=3)\n",
    "h5 = tb.open_file( 'tstab.h5','w')#打开文件\n",
    "ts = h5.create_ts('/','ts',ts_desc)#根据ts_desc对象创建tstable对象\n",
    "ts.append(df)#将dataframe对象附加到tstable对象中\n",
    "tstables.tstable.TsTable\n",
    "tb"
   ]
  },
  {
   "cell_type": "code",
   "execution_count": null,
   "metadata": {},
   "outputs": [],
   "source": []
  }
 ],
 "metadata": {
  "kernelspec": {
   "display_name": "Python 3",
   "language": "python",
   "name": "python3"
  },
  "language_info": {
   "codemirror_mode": {
    "name": "ipython",
    "version": 3
   },
   "file_extension": ".py",
   "mimetype": "text/x-python",
   "name": "python",
   "nbconvert_exporter": "python",
   "pygments_lexer": "ipython3",
   "version": "3.8.3"
  }
 },
 "nbformat": 4,
 "nbformat_minor": 4
}
