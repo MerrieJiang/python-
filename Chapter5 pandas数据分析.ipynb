{
 "cells": [
  {
   "cell_type": "markdown",
   "metadata": {},
   "source": [
    "# 5.1 dataframe类创建和基础操作 "
   ]
  },
  {
   "cell_type": "markdown",
   "metadata": {},
   "source": [
    "1. 用pandas导入数据（sql、excel）\n",
    "2. 用DataFrame创建\n",
    "\n",
    "`import pandas as pd\n",
    "df = pd.DataFrame([1,2,3,4],\n",
    "            columns=['numbers'],#列名称\n",
    "            index=['A','B','C','D']#行名称)`\n",
    " 3. DataFrame对象的典型操作\n",
    " \n",
    " `\n",
    " df.index #显示行名称和类型\n",
    " df.columns#显示列名称和类型\n",
    " df.loc[]#通过名称获取子集\n",
    " df.iloc[]#通过数字，如第几行第几列而不是名称获取子集\n",
    " df.sum()\n",
    " df.apply(lambda x:x ** 2)\n",
    " df['names']= pd.DataFrame(['张三','李四','张飞','张武'],index=['A','B','C','D'])#添加列数据,需要指定index\n",
    " df.append({})#根据字典添加行数据,会丢失原索引信息\n",
    " df.append(pd.DataFrame()#根据DataFrame对象添加行，原索引信息保留`，"
   ]
  },
  {
   "cell_type": "code",
   "execution_count": 20,
   "metadata": {},
   "outputs": [
    {
     "data": {
      "text/html": [
       "<div>\n",
       "<style scoped>\n",
       "    .dataframe tbody tr th:only-of-type {\n",
       "        vertical-align: middle;\n",
       "    }\n",
       "\n",
       "    .dataframe tbody tr th {\n",
       "        vertical-align: top;\n",
       "    }\n",
       "\n",
       "    .dataframe thead th {\n",
       "        text-align: right;\n",
       "    }\n",
       "</style>\n",
       "<table border=\"1\" class=\"dataframe\">\n",
       "  <thead>\n",
       "    <tr style=\"text-align: right;\">\n",
       "      <th></th>\n",
       "      <th>numbers</th>\n",
       "    </tr>\n",
       "  </thead>\n",
       "  <tbody>\n",
       "    <tr>\n",
       "      <th>A</th>\n",
       "      <td>1</td>\n",
       "    </tr>\n",
       "    <tr>\n",
       "      <th>B</th>\n",
       "      <td>2</td>\n",
       "    </tr>\n",
       "    <tr>\n",
       "      <th>C</th>\n",
       "      <td>3</td>\n",
       "    </tr>\n",
       "    <tr>\n",
       "      <th>D</th>\n",
       "      <td>4</td>\n",
       "    </tr>\n",
       "  </tbody>\n",
       "</table>\n",
       "</div>"
      ],
      "text/plain": [
       "   numbers\n",
       "A        1\n",
       "B        2\n",
       "C        3\n",
       "D        4"
      ]
     },
     "execution_count": 20,
     "metadata": {},
     "output_type": "execute_result"
    }
   ],
   "source": [
    "import pandas as pd\n",
    "df = pd.DataFrame([1,2,3,4],\n",
    "            columns=['numbers'],#列名称\n",
    "            index=['A','B','C','D'])#行名称\n",
    "df"
   ]
  },
  {
   "cell_type": "code",
   "execution_count": 21,
   "metadata": {},
   "outputs": [
    {
     "data": {
      "text/html": [
       "<div>\n",
       "<style scoped>\n",
       "    .dataframe tbody tr th:only-of-type {\n",
       "        vertical-align: middle;\n",
       "    }\n",
       "\n",
       "    .dataframe tbody tr th {\n",
       "        vertical-align: top;\n",
       "    }\n",
       "\n",
       "    .dataframe thead th {\n",
       "        text-align: right;\n",
       "    }\n",
       "</style>\n",
       "<table border=\"1\" class=\"dataframe\">\n",
       "  <thead>\n",
       "    <tr style=\"text-align: right;\">\n",
       "      <th></th>\n",
       "      <th>numbers</th>\n",
       "      <th>names</th>\n",
       "    </tr>\n",
       "  </thead>\n",
       "  <tbody>\n",
       "    <tr>\n",
       "      <th>A</th>\n",
       "      <td>1</td>\n",
       "      <td>张三</td>\n",
       "    </tr>\n",
       "    <tr>\n",
       "      <th>B</th>\n",
       "      <td>2</td>\n",
       "      <td>李四</td>\n",
       "    </tr>\n",
       "    <tr>\n",
       "      <th>C</th>\n",
       "      <td>3</td>\n",
       "      <td>张飞</td>\n",
       "    </tr>\n",
       "    <tr>\n",
       "      <th>D</th>\n",
       "      <td>4</td>\n",
       "      <td>张武</td>\n",
       "    </tr>\n",
       "  </tbody>\n",
       "</table>\n",
       "</div>"
      ],
      "text/plain": [
       "   numbers names\n",
       "A        1    张三\n",
       "B        2    李四\n",
       "C        3    张飞\n",
       "D        4    张武"
      ]
     },
     "execution_count": 21,
     "metadata": {},
     "output_type": "execute_result"
    }
   ],
   "source": [
    "df['names']= pd.DataFrame(['张三','李四','张飞','张武'],index=['A','B','C','D'])\n",
    "df"
   ]
  },
  {
   "cell_type": "code",
   "execution_count": 22,
   "metadata": {},
   "outputs": [
    {
     "data": {
      "text/html": [
       "<div>\n",
       "<style scoped>\n",
       "    .dataframe tbody tr th:only-of-type {\n",
       "        vertical-align: middle;\n",
       "    }\n",
       "\n",
       "    .dataframe tbody tr th {\n",
       "        vertical-align: top;\n",
       "    }\n",
       "\n",
       "    .dataframe thead th {\n",
       "        text-align: right;\n",
       "    }\n",
       "</style>\n",
       "<table border=\"1\" class=\"dataframe\">\n",
       "  <thead>\n",
       "    <tr style=\"text-align: right;\">\n",
       "      <th></th>\n",
       "      <th>numbers</th>\n",
       "      <th>names</th>\n",
       "    </tr>\n",
       "  </thead>\n",
       "  <tbody>\n",
       "    <tr>\n",
       "      <th>0</th>\n",
       "      <td>1</td>\n",
       "      <td>张三</td>\n",
       "    </tr>\n",
       "    <tr>\n",
       "      <th>1</th>\n",
       "      <td>2</td>\n",
       "      <td>李四</td>\n",
       "    </tr>\n",
       "    <tr>\n",
       "      <th>2</th>\n",
       "      <td>3</td>\n",
       "      <td>张飞</td>\n",
       "    </tr>\n",
       "    <tr>\n",
       "      <th>3</th>\n",
       "      <td>4</td>\n",
       "      <td>张武</td>\n",
       "    </tr>\n",
       "    <tr>\n",
       "      <th>4</th>\n",
       "      <td>5</td>\n",
       "      <td>jack</td>\n",
       "    </tr>\n",
       "  </tbody>\n",
       "</table>\n",
       "</div>"
      ],
      "text/plain": [
       "   numbers names\n",
       "0        1    张三\n",
       "1        2    李四\n",
       "2        3    张飞\n",
       "3        4    张武\n",
       "4        5  jack"
      ]
     },
     "execution_count": 22,
     "metadata": {},
     "output_type": "execute_result"
    }
   ],
   "source": [
    "df.append({'numbers':5, 'names':'jack'},ignore_index=True)"
   ]
  },
  {
   "cell_type": "code",
   "execution_count": 25,
   "metadata": {},
   "outputs": [
    {
     "data": {
      "text/html": [
       "<div>\n",
       "<style scoped>\n",
       "    .dataframe tbody tr th:only-of-type {\n",
       "        vertical-align: middle;\n",
       "    }\n",
       "\n",
       "    .dataframe tbody tr th {\n",
       "        vertical-align: top;\n",
       "    }\n",
       "\n",
       "    .dataframe thead th {\n",
       "        text-align: right;\n",
       "    }\n",
       "</style>\n",
       "<table border=\"1\" class=\"dataframe\">\n",
       "  <thead>\n",
       "    <tr style=\"text-align: right;\">\n",
       "      <th></th>\n",
       "      <th>numbers</th>\n",
       "      <th>names</th>\n",
       "    </tr>\n",
       "  </thead>\n",
       "  <tbody>\n",
       "    <tr>\n",
       "      <th>A</th>\n",
       "      <td>1</td>\n",
       "      <td>张三</td>\n",
       "    </tr>\n",
       "    <tr>\n",
       "      <th>B</th>\n",
       "      <td>2</td>\n",
       "      <td>李四</td>\n",
       "    </tr>\n",
       "    <tr>\n",
       "      <th>C</th>\n",
       "      <td>3</td>\n",
       "      <td>张飞</td>\n",
       "    </tr>\n",
       "    <tr>\n",
       "      <th>D</th>\n",
       "      <td>4</td>\n",
       "      <td>张武</td>\n",
       "    </tr>\n",
       "    <tr>\n",
       "      <th>E</th>\n",
       "      <td>5</td>\n",
       "      <td>jack</td>\n",
       "    </tr>\n",
       "  </tbody>\n",
       "</table>\n",
       "</div>"
      ],
      "text/plain": [
       "   numbers names\n",
       "A        1    张三\n",
       "B        2    李四\n",
       "C        3    张飞\n",
       "D        4    张武\n",
       "E        5  jack"
      ]
     },
     "execution_count": 25,
     "metadata": {},
     "output_type": "execute_result"
    }
   ],
   "source": [
    "df.append(pd.DataFrame({'numbers':5, 'names':'jack'},index=['E']))"
   ]
  },
  {
   "cell_type": "markdown",
   "metadata": {},
   "source": [
    "# 5.2 基本分析"
   ]
  },
  {
   "cell_type": "markdown",
   "metadata": {},
   "source": [
    "df.info()#提供数据、列和索引元信息\\\n",
    "df.describe()#每列的汇总统计\\\n",
    "<span style=\"border-style: double;border-width:5px;border-color: #6659BA;border-radius: 6px;color:#C7C7C7;\">df.sum()\n",
    "</span>\\\n",
    "<span style=\"border-style: double;border-width:5px;border-color: #6659BA;border-radius: 6px;color:#C7C7C7;\">df.mean()\n",
    "</span>\\\n",
    "<span style=\"border-style: double;border-width:5px;border-color: #6659BA;border-radius: 6px;color:#C7C7C7;\">df.cumsum</span>#axis=0列计算/1行计算\\\n",
    "与numpy相结合\\\n",
    "`\n",
    "np.mean(df)\n",
    "np.log(df)\n",
    "np.sqrt(abs(df))\n",
    "`\n"
   ]
  },
  {
   "cell_type": "markdown",
   "metadata": {},
   "source": [
    "# 5.3可视化 "
   ]
  },
  {
   "cell_type": "markdown",
   "metadata": {},
   "source": [
    "## 5.3.1 matplotlib"
   ]
  },
  {
   "cell_type": "code",
   "execution_count": 75,
   "metadata": {},
   "outputs": [
    {
     "data": {
      "text/html": [
       "<div>\n",
       "<style scoped>\n",
       "    .dataframe tbody tr th:only-of-type {\n",
       "        vertical-align: middle;\n",
       "    }\n",
       "\n",
       "    .dataframe tbody tr th {\n",
       "        vertical-align: top;\n",
       "    }\n",
       "\n",
       "    .dataframe thead th {\n",
       "        text-align: right;\n",
       "    }\n",
       "</style>\n",
       "<table border=\"1\" class=\"dataframe\">\n",
       "  <thead>\n",
       "    <tr style=\"text-align: right;\">\n",
       "      <th></th>\n",
       "      <th>total_bill</th>\n",
       "      <th>tip</th>\n",
       "      <th>sex</th>\n",
       "      <th>smoker</th>\n",
       "      <th>day</th>\n",
       "      <th>time</th>\n",
       "      <th>size</th>\n",
       "    </tr>\n",
       "  </thead>\n",
       "  <tbody>\n",
       "    <tr>\n",
       "      <th>0</th>\n",
       "      <td>16.99</td>\n",
       "      <td>1.01</td>\n",
       "      <td>Female</td>\n",
       "      <td>No</td>\n",
       "      <td>Sun</td>\n",
       "      <td>Dinner</td>\n",
       "      <td>2</td>\n",
       "    </tr>\n",
       "    <tr>\n",
       "      <th>1</th>\n",
       "      <td>10.34</td>\n",
       "      <td>1.66</td>\n",
       "      <td>Male</td>\n",
       "      <td>No</td>\n",
       "      <td>Sun</td>\n",
       "      <td>Dinner</td>\n",
       "      <td>3</td>\n",
       "    </tr>\n",
       "    <tr>\n",
       "      <th>2</th>\n",
       "      <td>21.01</td>\n",
       "      <td>3.50</td>\n",
       "      <td>Male</td>\n",
       "      <td>No</td>\n",
       "      <td>Sun</td>\n",
       "      <td>Dinner</td>\n",
       "      <td>3</td>\n",
       "    </tr>\n",
       "    <tr>\n",
       "      <th>3</th>\n",
       "      <td>23.68</td>\n",
       "      <td>3.31</td>\n",
       "      <td>Male</td>\n",
       "      <td>No</td>\n",
       "      <td>Sun</td>\n",
       "      <td>Dinner</td>\n",
       "      <td>2</td>\n",
       "    </tr>\n",
       "    <tr>\n",
       "      <th>4</th>\n",
       "      <td>24.59</td>\n",
       "      <td>3.61</td>\n",
       "      <td>Female</td>\n",
       "      <td>No</td>\n",
       "      <td>Sun</td>\n",
       "      <td>Dinner</td>\n",
       "      <td>4</td>\n",
       "    </tr>\n",
       "  </tbody>\n",
       "</table>\n",
       "</div>"
      ],
      "text/plain": [
       "   total_bill   tip     sex smoker  day    time  size\n",
       "0       16.99  1.01  Female     No  Sun  Dinner     2\n",
       "1       10.34  1.66    Male     No  Sun  Dinner     3\n",
       "2       21.01  3.50    Male     No  Sun  Dinner     3\n",
       "3       23.68  3.31    Male     No  Sun  Dinner     2\n",
       "4       24.59  3.61  Female     No  Sun  Dinner     4"
      ]
     },
     "execution_count": 75,
     "metadata": {},
     "output_type": "execute_result"
    }
   ],
   "source": [
    "import pandas as pd\n",
    "tips = pd.read_csv('D:/Users/MERRY/Jupyter/python金融大数据分析（edition 2）/seaborn-data-master/tips.csv')\n",
    "tips.head()"
   ]
  },
  {
   "cell_type": "markdown",
   "metadata": {},
   "source": [
    "### 直方图（单变量分组后的频率分布）"
   ]
  },
  {
   "cell_type": "code",
   "execution_count": 78,
   "metadata": {},
   "outputs": [
    {
     "name": "stderr",
     "output_type": "stream",
     "text": [
      "<ipython-input-78-f82b7379662c>:8: UserWarning: Matplotlib is currently using module://ipykernel.pylab.backend_inline, which is a non-GUI backend, so cannot show the figure.\n",
      "  fig.show()\n"
     ]
    },
    {
     "data": {
      "image/png": "[encoded data removed]",
      "text/plain": [
       "<Figure size 432x288 with 1 Axes>"
      ]
     },
     "metadata": {
      "needs_background": "light"
     },
     "output_type": "display_data"
    }
   ],
   "source": [
    "import matplotlib.pyplot as plt\n",
    "fig = plt.figure()#创建画布\n",
    "axes1 = fig.add_subplot(1,1,1)#创建1*1画布，指定axes1为第一个，其实也只有一个子图\n",
    "axes1.hist(tips['total_bill'],bins=10)#数据间隔为10\n",
    "axes1.set_title('Histogram')#图命名\n",
    "axes1.set_xlabel('bill')#x轴标签\n",
    "axes1.set_ylabel('Frequency')#y轴标签\n",
    "fig.show()\n"
   ]
  },
  {
   "cell_type": "markdown",
   "metadata": {},
   "source": [
    "### 散点图（描述双变量）"
   ]
  },
  {
   "cell_type": "code",
   "execution_count": 79,
   "metadata": {},
   "outputs": [
    {
     "name": "stderr",
     "output_type": "stream",
     "text": [
      "<ipython-input-79-f6d823e9539d>:7: UserWarning: Matplotlib is currently using module://ipykernel.pylab.backend_inline, which is a non-GUI backend, so cannot show the figure.\n",
      "  fig.show()\n"
     ]
    },
    {
     "data": {
      "image/png": "[encoded data removed]",
      "text/plain": [
       "<Figure size 432x288 with 1 Axes>"
      ]
     },
     "metadata": {
      "needs_background": "light"
     },
     "output_type": "display_data"
    }
   ],
   "source": [
    "fig = plt.figure()#创建画布\n",
    "axes1 = fig.add_subplot(1,1,1)#创建1*1画布，指定axes1为第一个，其实也只有一个子图\n",
    "axes1.scatter(tips['total_bill'],tips['tip'])\n",
    "axes1.set_title('Scatterplot')\n",
    "axes1.set_xlabel('total bill')\n",
    "axes1.set_ylabel('tip')\n",
    "fig.show()"
   ]
  },
  {
   "cell_type": "markdown",
   "metadata": {},
   "source": [
    "### 箱型图（离散变量随连续变量变化呈现的分布）"
   ]
  },
  {
   "cell_type": "code",
   "execution_count": 80,
   "metadata": {},
   "outputs": [
    {
     "name": "stderr",
     "output_type": "stream",
     "text": [
      "<ipython-input-80-1c65d2d676f6>:9: UserWarning: Matplotlib is currently using module://ipykernel.pylab.backend_inline, which is a non-GUI backend, so cannot show the figure.\n",
      "  fig.show()\n"
     ]
    },
    {
     "data": {
      "image/png": "[encoded data removed]",
      "text/plain": [
       "<Figure size 432x288 with 1 Axes>"
      ]
     },
     "metadata": {
      "needs_background": "light"
     },
     "output_type": "display_data"
    }
   ],
   "source": [
    "fig = plt.figure()#创建画布\n",
    "axes1 = fig.add_subplot(1,1,1)#创建1*1画布，指定axes1为第一个，其实也只有一个子图\n",
    "axes1.boxplot(\n",
    "    [tips[tips['sex']== 'Female']['tip'],\n",
    "    tips[tips['sex']== 'Male']['tip']],#男女的tip数据\n",
    "    labels=['female','male'])#男女tip数据的箱型图命名axes1.set_title('Scatterplot')\n",
    "axes1.set_xlabel('sex')\n",
    "axes1.set_ylabel('tip')\n",
    "fig.show()"
   ]
  },
  {
   "cell_type": "markdown",
   "metadata": {},
   "source": [
    "### 三变量（如男女的total bill和tip的比较）"
   ]
  },
  {
   "cell_type": "code",
   "execution_count": 81,
   "metadata": {},
   "outputs": [
    {
     "name": "stderr",
     "output_type": "stream",
     "text": [
      "<ipython-input-81-9701ecfec1e8>:18: UserWarning: Matplotlib is currently using module://ipykernel.pylab.backend_inline, which is a non-GUI backend, so cannot show the figure.\n",
      "  fig.show()\n"
     ]
    },
    {
     "data": {
      "image/png": "[encoded data removed]",
      "text/plain": [
       "<Figure size 432x288 with 1 Axes>"
      ]
     },
     "metadata": {
      "needs_background": "light"
     },
     "output_type": "display_data"
    }
   ],
   "source": [
    "#将男女性别根据不同点来表示\n",
    "def recode_sex(sex):\n",
    "    if sex == 'Female':\n",
    "        return 0\n",
    "    else:\n",
    "        return 1\n",
    "tips['sex_color'] = tips['sex'].apply(recode_sex)\n",
    "fig = plt.figure()\n",
    "axes1 = fig.add_subplot(1,1,1)#创建1*1画布，指定axes1为第一个，其实也只有一个子图\n",
    "axes1.scatter(\n",
    "                x=tips['total_bill'],\n",
    "                y=tips['tip'],\n",
    "                c=tips['sex_color'],#为每个点根据性别设置颜色\n",
    "                alpha=0.5)#alpha设置透明度，可以看出点的集中程度\n",
    "axes1.set_title('total bill vs till by sex')\n",
    "axes1.set_xlabel('total bill')\n",
    "axes1.set_ylabel('tip')\n",
    "fig.show()\n"
   ]
  },
  {
   "cell_type": "markdown",
   "metadata": {},
   "source": [
    "### 四变量（如男女的total bill和tip的比较，还要体现每桌就餐人数）就餐人数用原点大小表示"
   ]
  },
  {
   "cell_type": "code",
   "execution_count": 85,
   "metadata": {},
   "outputs": [
    {
     "name": "stderr",
     "output_type": "stream",
     "text": [
      "<ipython-input-85-1694064aa030>:19: UserWarning: Matplotlib is currently using module://ipykernel.pylab.backend_inline, which is a non-GUI backend, so cannot show the figure.\n",
      "  fig.show()\n"
     ]
    },
    {
     "data": {
      "image/png": "[encoded data removed]",
      "text/plain": [
       "<Figure size 432x288 with 1 Axes>"
      ]
     },
     "metadata": {
      "needs_background": "light"
     },
     "output_type": "display_data"
    }
   ],
   "source": [
    "#将男女性别根据不同点来表示\n",
    "def recode_sex(sex):\n",
    "    if sex == 'Female':\n",
    "        return 0\n",
    "    else:\n",
    "        return 1\n",
    "tips['sex_color'] = tips['sex'].apply(recode_sex)\n",
    "fig = plt.figure()\n",
    "axes1 = fig.add_subplot(1,1,1)#创建1*1画布，指定axes1为第一个，其实也只有一个子图\n",
    "axes1.scatter(\n",
    "                x=tips['total_bill'],\n",
    "                y=tips['tip'],\n",
    "                s=tips['size']*20,\n",
    "                c=tips['sex_color'],#为每个点根据性别设置颜色\n",
    "                alpha=0.5)#alpha设置透明度，可以看出点的集中程度\n",
    "axes1.set_title('total bill vs till by sex and size')\n",
    "axes1.set_xlabel('total bill')\n",
    "axes1.set_ylabel('tip')\n",
    "fig.show()\n"
   ]
  },
  {
   "cell_type": "markdown",
   "metadata": {},
   "source": [
    "## 5.3.2 seaborn画图"
   ]
  },
  {
   "cell_type": "markdown",
   "metadata": {},
   "source": [
    "### 热力图"
   ]
  },
  {
   "cell_type": "code",
   "execution_count": 97,
   "metadata": {},
   "outputs": [
    {
     "data": {
      "image/png": "[encoded data removed]",
      "text/plain": [
       "<Figure size 432x288 with 2 Axes>"
      ]
     },
     "metadata": {
      "needs_background": "light"
     },
     "output_type": "display_data"
    }
   ],
   "source": [
    "cor=tips.loc[:,['total_bill','tip']].corr()\n",
    "heatm= sns.heatmap(cor)"
   ]
  },
  {
   "cell_type": "markdown",
   "metadata": {},
   "source": [
    "### 蜂巢图 （双变量装箱并展示频率分布情况）"
   ]
  },
  {
   "cell_type": "code",
   "execution_count": 100,
   "metadata": {},
   "outputs": [
    {
     "data": {
      "text/plain": [
       "Text(0.5, 0.98, 'hexbin')"
      ]
     },
     "execution_count": 100,
     "metadata": {},
     "output_type": "execute_result"
    },
    {
     "data": {
      "image/png": "[encoded data removed]",
      "text/plain": [
       "<Figure size 432x432 with 3 Axes>"
      ]
     },
     "metadata": {
      "needs_background": "light"
     },
     "output_type": "display_data"
    }
   ],
   "source": [
    "hexbin = sns.jointplot(x='total_bill',y='tip',data=tips,kind='hex')#jointplot不用创建画布，直接指定数据和画图类型\n",
    "hexbin.set_axis_labels(xlabel='total bill',ylabel='tip')\n",
    "hexbin.fig.suptitle('hexbin')\n",
    "#默认单独展示两变量的频率分布"
   ]
  },
  {
   "cell_type": "markdown",
   "metadata": {},
   "source": [
    "### 2D密度图（用颜色反映每一点的密度）"
   ]
  },
  {
   "cell_type": "code",
   "execution_count": 102,
   "metadata": {},
   "outputs": [
    {
     "data": {
      "text/plain": [
       "Text(0.5, 0.98, 'hexbin')"
      ]
     },
     "execution_count": 102,
     "metadata": {},
     "output_type": "execute_result"
    },
    {
     "data": {
      "image/png": "[encoded data removed]",
      "text/plain": [
       "<Figure size 432x432 with 3 Axes>"
      ]
     },
     "metadata": {
      "needs_background": "light"
     },
     "output_type": "display_data"
    }
   ],
   "source": [
    "kde = sns.jointplot(x='total_bill',y='tip',data=tips,kind='kde')#jointplot不用创建画布，直接指定数据和画图类型\n",
    "hexbin.set_axis_labels(xlabel='total bill',ylabel='tip')\n",
    "kde.fig.suptitle('hexbin')\n",
    "#默认单独展示两变量的kde"
   ]
  },
  {
   "cell_type": "markdown",
   "metadata": {},
   "source": [
    "# 5.4 groupby操作 （相当于excel透视功能）"
   ]
  },
  {
   "cell_type": "markdown",
   "metadata": {},
   "source": [
    "1. 根据单个指标分组\n",
    "\n",
    "`\n",
    "groups = df.groupby('sex')\n",
    "groups.mean()#分组后每列均值\n",
    "groups.max()#分组后每列最大值\n",
    "groups.aggregate([min,max]).round(2)#分组后每列最大值最小值，并保留两位小数\n",
    "`\n",
    "2. 根据多个指标分组\n",
    "\n",
    "`\n",
    "groups = df.groupby(['sex','size'])\n",
    "`"
   ]
  },
  {
   "cell_type": "markdown",
   "metadata": {},
   "source": [
    "## 5.5 复杂选择"
   ]
  },
  {
   "cell_type": "markdown",
   "metadata": {},
   "source": [
    "1. 得到布尔型对象\n",
    "\n",
    "`df['x'] > 0.5\n",
    "(df['x'] > 0) & (df['y'] < 0)  #两个条件都要符合\n",
    "(df['x'] > 0) | (df['y'] < 0)  #两个条件符合一个就行`\n",
    "2. 根据布尔对象选择\n",
    "\n",
    "`df[df['x'] > 0.5]\n",
    "df[(df['x'] > 0) & (df['y'] < 0)]  #两个条件都要符合\n",
    "df[(df['x'] > 0) | (df['y'] < 0)]  #两个条件符合一个就行`\n",
    "3. 用query方法传递字符串对象\n",
    "\n",
    "`df.query('x > 0.5')\n",
    "df.query('x > 0 & y < 0')#两个条件都要符合`"
   ]
  },
  {
   "cell_type": "code",
   "execution_count": null,
   "metadata": {},
   "outputs": [],
   "source": []
  }
 ],
 "metadata": {
  "kernelspec": {
   "display_name": "Python 3",
   "language": "python",
   "name": "python3"
  },
  "language_info": {
   "codemirror_mode": {
    "name": "ipython",
    "version": 3
   },
   "file_extension": ".py",
   "mimetype": "text/x-python",
   "name": "python",
   "nbconvert_exporter": "python",
   "pygments_lexer": "ipython3",
   "version": "3.8.3"
  }
 },
 "nbformat": 4,
 "nbformat_minor": 4
}
